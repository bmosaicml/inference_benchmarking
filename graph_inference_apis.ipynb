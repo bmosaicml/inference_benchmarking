{
 "cells": [
  {
   "cell_type": "code",
   "execution_count": 1,
   "id": "65a0a946",
   "metadata": {},
   "outputs": [],
   "source": [
    "import matplotlib.pyplot as plt\n",
    "import pandas as pd\n",
    "import numpy as np\n",
    "from sklearn.metrics import r2_score\n"
   ]
  },
  {
   "cell_type": "code",
   "execution_count": 4,
   "id": "76fe1126",
   "metadata": {},
   "outputs": [],
   "source": [
    "with open('public_api_results/cohere.tsv', 'r') as f:\n",
    "    ch_df = pd.read_csv(f, sep='\\t')\n",
    "with open('public_api_results/openai.tsv', 'r') as f:\n",
    "    ai_df = pd.read_csv(f, sep='\\t')"
   ]
  },
  {
   "cell_type": "code",
   "execution_count": null,
   "id": "26500fe9",
   "metadata": {},
   "outputs": [],
   "source": []
  },
  {
   "cell_type": "code",
   "execution_count": null,
   "id": "9aa4f023",
   "metadata": {},
   "outputs": [],
   "source": []
  },
  {
   "cell_type": "code",
   "execution_count": 7,
   "id": "0d597a97",
   "metadata": {},
   "outputs": [
    {
     "name": "stdout",
     "output_type": "stream",
     "text": [
      "{'davinci-instruct-beta', 'command-medium-nightly', 'command-xlarge-nightly', 'text-curie-001', 'text-babbage-001', 'text-davinci-003', 'gpt-3.5-turbo'}\n",
      "Model davinci-instruct-beta, r2=0.9993864720194614\n",
      "Model command-medium-nightly, r2=0.38265638980811545\n",
      "Model command-xlarge-nightly, r2=0.5755382521348713\n",
      "Model text-curie-001, r2=0.963909850761274\n",
      "Model text-babbage-001, r2=0.9424462994608613\n",
      "Model text-davinci-003, r2=0.9940426839652995\n",
      "Model gpt-3.5-turbo, r2=0.9758958822036207\n"
     ]
    },
    {
     "data": {
      "text/plain": [
       "<Figure size 900x900 with 0 Axes>"
      ]
     },
     "metadata": {},
     "output_type": "display_data"
    }
   ],
   "source": [
    "partition_col = 'prompt_len'\n",
    "independent_col = 'output_len'\n",
    "\n",
    "def save_figs(partition_col, independent_col, df):\n",
    "    model_names = set(df['model_name'])\n",
    "    prompt_lens = set(ch_df[partition_col])\n",
    "    fig, ax = plt.subplots(figsize = (9, 9))\n",
    "    plt.title(f\"Call latency v. output length for public inference APIs\")\n",
    "    plt.xlabel(\"Output length\")\n",
    "    plt.ylabel(\"Call latency (seconds)\")\n",
    "    print(model_names)\n",
    "    for (model, color) in zip(model_names, ['r', 'b', 'g', 'c', 'k', 'm', 'y']):\n",
    "        subset = df[df.model_name == model]\n",
    "\n",
    "        x, y = subset[independent_col], subset['call_latency']\n",
    "        ax.scatter(x,y, color=color, label=model, s=10)\n",
    "\n",
    "        b, a = np.polyfit(x, y, deg=1)\n",
    "        predict = np.poly1d((b,a))\n",
    "        r2 = r2_score(y, predict(x))\n",
    "        print(f\"Model {model}, r2={r2}\")\n",
    "        # Create sequence of 100 numbers from 0 to 100 \n",
    "        xseq = np.linspace(min(df[independent_col]),max(df[independent_col]), num=100)\n",
    "\n",
    "        # Plot regression line\n",
    "        ax.plot(xseq, a + b * xseq, color=color, lw=1);\n",
    "    plt.legend(loc=\"upper left\")\n",
    "\n",
    "            \n",
    "    plt.savefig(f\"public_api_results/latencies.png\")\n",
    "    plt.clf()\n",
    "\n",
    "save_figs(partition_col, independent_col, pd.concat([ai_df, ch_df]))\n",
    "\n",
    "\n",
    "    "
   ]
  },
  {
   "cell_type": "code",
   "execution_count": null,
   "id": "990a2a74",
   "metadata": {},
   "outputs": [],
   "source": []
  },
  {
   "cell_type": "code",
   "execution_count": null,
   "id": "0286cae8",
   "metadata": {},
   "outputs": [],
   "source": []
  }
 ],
 "metadata": {
  "kernelspec": {
   "display_name": "Python 3 (ipykernel)",
   "language": "python",
   "name": "python3"
  },
  "language_info": {
   "codemirror_mode": {
    "name": "ipython",
    "version": 3
   },
   "file_extension": ".py",
   "mimetype": "text/x-python",
   "name": "python",
   "nbconvert_exporter": "python",
   "pygments_lexer": "ipython3",
   "version": "3.9.6"
  }
 },
 "nbformat": 4,
 "nbformat_minor": 5
}
